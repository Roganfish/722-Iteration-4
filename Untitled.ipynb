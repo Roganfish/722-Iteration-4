{
 "cells": [
  {
   "cell_type": "code",
   "execution_count": 5,
   "id": "b7621226",
   "metadata": {},
   "outputs": [
    {
     "name": "stdout",
     "output_type": "stream",
     "text": [
      "Defaulting to user installation because normal site-packages is not writeable\n",
      "Collecting openpyxl\n",
      "  Downloading openpyxl-3.1.2-py2.py3-none-any.whl (249 kB)\n",
      "\u001b[2K     \u001b[90m━━━━━━━━━━━━━━━━━━━━━━━━━━━━━━━━━━━━━━━\u001b[0m \u001b[32m250.0/250.0 KB\u001b[0m \u001b[31m5.5 MB/s\u001b[0m eta \u001b[36m0:00:00\u001b[0ma \u001b[36m0:00:01\u001b[0m\n",
      "\u001b[?25hCollecting et-xmlfile\n",
      "  Downloading et_xmlfile-1.1.0-py3-none-any.whl (4.7 kB)\n",
      "Installing collected packages: et-xmlfile, openpyxl\n",
      "Successfully installed et-xmlfile-1.1.0 openpyxl-3.1.2\n"
     ]
    }
   ],
   "source": [
    "# Must be included at the beginning of each new notebook. Remember to change the app name.\n",
    "import findspark\n",
    "findspark.init('/home/ubuntu/spark-3.2.1-bin-hadoop2.7')\n",
    "import pyspark\n",
    "from pyspark.sql import SparkSession\n",
    "spark = SparkSession.builder.appName('basics').getOrCreate()\n",
    "!pip install openpyxl"
   ]
  },
  {
   "cell_type": "code",
   "execution_count": 6,
   "id": "a45cb098",
   "metadata": {},
   "outputs": [
    {
     "name": "stderr",
     "output_type": "stream",
     "text": [
      "\r",
      "[Stage 0:>                                                          (0 + 1) / 1]\r"
     ]
    },
    {
     "name": "stdout",
     "output_type": "stream",
     "text": [
      "+-------------------+-----------------+--------------------------------------+---------------------------------------+--------------------------------+-----------------------+----------------+--------------+-----------+----------------+-----------------+-----------------------------------------+------+---------------+--------------+------------+\n",
      "|            Country|              GDP|Gross primary education enrollment (%)|Gross tertiary education enrollment (%)|Out of pocket health expenditure|Physicians per thousand|Density\\n(P/Km2)|Fertility Rate| Population|Urban_population|Unemployment rate|Population: Labor force participation (%)|   CPI|Tax revenue (%)|Total tax rate|Is_Developed|\n",
      "+-------------------+-----------------+--------------------------------------+---------------------------------------+--------------------------------+-----------------------+----------------+--------------+-----------+----------------+-----------------+-----------------------------------------+------+---------------+--------------+------------+\n",
      "|            Andorra|    3.154057987E9|                                 1.064|                                    NaN|                           0.364|                   3.33|             164|          1.27|    77142.0|         67873.0|              NaN|                                      NaN|   NaN|            NaN|           NaN|           1|\n",
      "|          Australia|1.392680589329E12|                                 1.003|                                  1.131|                           0.196|                   3.68|               3|          1.74|2.5766605E7|     2.1844756E7|           0.0527|                                    0.655| 119.8|           0.23|         0.474|           1|\n",
      "|            Austria| 4.46314739528E11|                                 1.031|                                  0.851|                           0.179|                   5.17|             109|          1.47|  8877067.0|       5194416.0|           0.0467|                                    0.607|118.06|          0.254|         0.514|           1|\n",
      "|            Belgium| 5.29606710418E11|                                 1.039|                                  0.797|                           0.176|                   3.07|             383|          1.62|1.1484055E7|     1.1259082E7|           0.0559|                                    0.536|117.11|           0.24|         0.554|           1|\n",
      "|             Brunei|  1.3469422941E10|                                 1.032|                                  0.314|                            0.06|                   1.61|              83|          1.85|   433285.0|        337711.0|           0.0912|                                    0.647| 99.03|            NaN|          0.08|           1|\n",
      "|             Canada| 1.73642562952E12|                                 1.009|                                  0.689|                           0.146|                   2.61|               4|           1.5|3.6991981E7|     3.0628482E7|           0.0556|                                    0.651|116.76|          0.128|         0.245|           1|\n",
      "|            Croatia|  6.0415553039E10|                                 0.965|                                  0.679|                           0.152|                    3.0|              73|          1.47|  4067500.0|       2328318.0|           0.0693|                                    0.512|109.82|           0.22|         0.205|           1|\n",
      "|             Cyprus|  2.4564647935E10|                                 0.993|                                  0.759|                            1.95|              1198575.0|             131|          1.33|      0.631|       35.126413|         800708.0|                                    0.245|102.51|          0.224|        0.0727|           1|\n",
      "|     Czech Republic| 2.46489245495E11|                                 1.007|                                  0.641|                           0.148|                   4.12|             139|          1.69|1.0669709E7|       7887156.0|           0.0193|                                    0.606|116.48|          0.149|         0.461|           1|\n",
      "|            Denmark| 3.48078018464E11|                                 1.013|                                  0.806|                           0.137|                   4.01|             137|          1.73|  5818553.0|       5119978.0|           0.0491|                                    0.622|110.35|          0.324|         0.238|           1|\n",
      "|            Estonia|  3.1386949981E10|                                 0.972|                                  0.696|                           0.228|                   4.48|              31|          1.59|  1331824.0|        916024.0|           0.0511|                                    0.636|122.14|          0.209|         0.478|           1|\n",
      "|            Finland| 2.68761201365E11|                                 1.002|                                  0.882|                           0.199|                   3.81|              18|          1.41|  5520314.0|       4716888.0|           0.0659|                                    0.591|112.33|          0.208|         0.366|           1|\n",
      "|             France|2.715518274227E12|                                 1.025|                                  0.656|                           0.068|                   3.27|             119|          1.88|6.7059887E7|     5.4123364E7|           0.0843|                                    0.551|110.05|          0.242|         0.607|           1|\n",
      "|            Germany|3.845630030824E12|                                  1.04|                                  0.702|                           0.125|                   4.25|             240|          1.56|8.3132799E7|     6.4324835E7|           0.0304|                                    0.608|112.85|          0.115|         0.488|           1|\n",
      "|             Greece| 2.09852761469E11|                                 0.996|                                  1.366|                           0.355|                   5.48|              81|          1.35|1.0716322E7|       8507474.0|           0.1724|                                    0.518|101.87|          0.262|         0.519|           1|\n",
      "|       Vatican City|              NaN|                                   NaN|                                    NaN|                             NaN|                    NaN|            2003|           NaN|      836.0|             NaN|              NaN|                                      NaN|   NaN|            NaN|           NaN|           1|\n",
      "|            Hungary| 1.60967157504E11|                                 1.008|                                  0.485|                            0.29|                   3.41|             107|          1.54|  9769949.0|       6999582.0|            0.034|                                    0.565|121.64|           0.23|         0.379|           1|\n",
      "|            Iceland|  2.4188035739E10|                                 1.004|                                  0.718|                            0.17|                   4.08|               3|          1.71|   361313.0|        339110.0|           0.0284|                                     0.75| 129.0|          0.233|         0.319|           1|\n",
      "|Republic of Ireland| 3.88698711348E11|                                 1.009|                                  0.778|                           0.152|                   3.31|              72|          1.75|  5007069.0|       3133123.0|           0.0493|                                    0.621|106.58|          0.183|         0.261|           1|\n",
      "|             Israel| 3.95098666122E11|                                 1.049|                                  0.634|                           0.244|                   4.62|             400|          3.09|  9053300.0|       8374393.0|           0.0386|                                     0.64|108.15|          0.231|         0.253|           1|\n",
      "+-------------------+-----------------+--------------------------------------+---------------------------------------+--------------------------------+-----------------------+----------------+--------------+-----------+----------------+-----------------+-----------------------------------------+------+---------------+--------------+------------+\n",
      "only showing top 20 rows\n",
      "\n"
     ]
    },
    {
     "name": "stderr",
     "output_type": "stream",
     "text": [
      "\r",
      "                                                                                \r"
     ]
    }
   ],
   "source": [
    "import pandas as pd\n",
    "from pyspark.sql import SparkSession\n",
    "\n",
    "df_pandas = pd.read_excel('Developed.xlsx')\n",
    "\n",
    "df_spark = spark.createDataFrame(df_pandas)\n",
    "\n",
    "df_spark.show()"
   ]
  },
  {
   "cell_type": "code",
   "execution_count": null,
   "id": "58149e87",
   "metadata": {},
   "outputs": [],
   "source": []
  }
 ],
 "metadata": {
  "kernelspec": {
   "display_name": "Python 3 (ipykernel)",
   "language": "python",
   "name": "python3"
  },
  "language_info": {
   "codemirror_mode": {
    "name": "ipython",
    "version": 3
   },
   "file_extension": ".py",
   "mimetype": "text/x-python",
   "name": "python",
   "nbconvert_exporter": "python",
   "pygments_lexer": "ipython3",
   "version": "3.10.12"
  }
 },
 "nbformat": 4,
 "nbformat_minor": 5
}
